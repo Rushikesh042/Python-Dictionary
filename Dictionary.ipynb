{
  "nbformat": 4,
  "nbformat_minor": 0,
  "metadata": {
    "colab": {
      "name": "Dictionary.ipynb",
      "provenance": [],
      "authorship_tag": "ABX9TyOJWaTR6YpX79okLprgf94S",
      "include_colab_link": true
    },
    "kernelspec": {
      "name": "python3",
      "display_name": "Python 3"
    }
  },
  "cells": [
    {
      "cell_type": "markdown",
      "metadata": {
        "id": "view-in-github",
        "colab_type": "text"
      },
      "source": [
        "<a href=\"https://colab.research.google.com/github/Rushikesh042/Python-Dictionary/blob/master/Dictionary.ipynb\" target=\"_parent\"><img src=\"https://colab.research.google.com/assets/colab-badge.svg\" alt=\"Open In Colab\"/></a>"
      ]
    },
    {
      "cell_type": "code",
      "metadata": {
        "id": "Ec8D6LiTN1By",
        "colab_type": "code",
        "colab": {}
      },
      "source": [
        "import json"
      ],
      "execution_count": 1,
      "outputs": []
    },
    {
      "cell_type": "code",
      "metadata": {
        "id": "NLYG3KwQPDrU",
        "colab_type": "code",
        "colab": {}
      },
      "source": [
        "data=json.load(open(\"data.json\"))"
      ],
      "execution_count": 3,
      "outputs": []
    },
    {
      "cell_type": "code",
      "metadata": {
        "id": "Zk6In2ZIPMS5",
        "colab_type": "code",
        "colab": {
          "base_uri": "https://localhost:8080/",
          "height": 185
        },
        "outputId": "9e9bfc2d-79a8-4d13-f090-9dc317329643"
      },
      "source": [
        "type(data)\n",
        "print(data)"
      ],
      "execution_count": 4,
      "outputs": [
        {
          "output_type": "stream",
          "text": [
            "IOPub data rate exceeded.\n",
            "The notebook server will temporarily stop sending output\n",
            "to the client in order to avoid crashing it.\n",
            "To change this limit, set the config variable\n",
            "`--NotebookApp.iopub_data_rate_limit`.\n",
            "\n",
            "Current values:\n",
            "NotebookApp.iopub_data_rate_limit=1000000.0 (bytes/sec)\n",
            "NotebookApp.rate_limit_window=3.0 (secs)\n",
            "\n"
          ],
          "name": "stderr"
        }
      ]
    },
    {
      "cell_type": "markdown",
      "metadata": {
        "id": "QPaIZ5CsT-1O",
        "colab_type": "text"
      },
      "source": [
        "Input from User"
      ]
    },
    {
      "cell_type": "code",
      "metadata": {
        "id": "aXv65GbhPvTc",
        "colab_type": "code",
        "colab": {}
      },
      "source": [
        "import json\n",
        "import difflib\n",
        "from difflib import SequenceMatcher\n",
        "data=json.load(open(\"data.json\"))\n",
        "def translate(word):\n",
        "  word=word.lower()\n",
        "  if word in data:\n",
        "    return data[word]\n",
        "  elif len(get_close_matches(word,data.keys()))>0:\n",
        "    return \"Did you mean %s instead\" %get_close_matches(word,data.keys())[0]\n",
        "  else:\n",
        "    return \"The word doesn't exist. Please enter a valid word.\""
      ],
      "execution_count": 43,
      "outputs": []
    },
    {
      "cell_type": "code",
      "metadata": {
        "id": "tUimuq4rSl-i",
        "colab_type": "code",
        "colab": {
          "base_uri": "https://localhost:8080/",
          "height": 50
        },
        "outputId": "975cbf9d-25f6-42f1-d9c6-6605fe717f16"
      },
      "source": [
        "word=input(\"Enter word:\")\n",
        "print(translate(word))"
      ],
      "execution_count": 45,
      "outputs": [
        {
          "output_type": "stream",
          "text": [
            "Enter word:painn\n",
            "Did you mean pain instead\n"
          ],
          "name": "stdout"
        }
      ]
    },
    {
      "cell_type": "code",
      "metadata": {
        "id": "7gmi6pR_fEGF",
        "colab_type": "code",
        "colab": {
          "base_uri": "https://localhost:8080/",
          "height": 34
        },
        "outputId": "4d491a0c-2634-4f9a-cf6d-c1f10b3a7ef2"
      },
      "source": [
        "import difflib\n",
        "from difflib import SequenceMatcher\n",
        "SequenceMatcher(None,\"rain\",\"rainn\").ratio()"
      ],
      "execution_count": 41,
      "outputs": [
        {
          "output_type": "execute_result",
          "data": {
            "text/plain": [
              "0.8888888888888888"
            ]
          },
          "metadata": {
            "tags": []
          },
          "execution_count": 41
        }
      ]
    },
    {
      "cell_type": "code",
      "metadata": {
        "id": "LpoP5Wvvuief",
        "colab_type": "code",
        "colab": {
          "base_uri": "https://localhost:8080/",
          "height": 34
        },
        "outputId": "958f64c5-bbae-4240-95fa-41b8898d52d7"
      },
      "source": [
        "import difflib\n",
        "from difflib import get_close_matches\n",
        "get_close_matches(\"Sandy\",data.keys(),n=5)"
      ],
      "execution_count": 42,
      "outputs": [
        {
          "output_type": "execute_result",
          "data": {
            "text/plain": [
              "['handy', 'dandy', 'candy', 'Sanye', 'any']"
            ]
          },
          "metadata": {
            "tags": []
          },
          "execution_count": 42
        }
      ]
    }
  ]
}