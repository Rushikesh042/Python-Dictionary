{
  "nbformat": 4,
  "nbformat_minor": 0,
  "metadata": {
    "colab": {
      "name": "Dictionary.ipynb",
      "provenance": [],
      "authorship_tag": "ABX9TyPr/izTSGLOuMIJuPC1XXPt",
      "include_colab_link": true
    },
    "kernelspec": {
      "name": "python3",
      "display_name": "Python 3"
    }
  },
  "cells": [
    {
      "cell_type": "markdown",
      "metadata": {
        "id": "view-in-github",
        "colab_type": "text"
      },
      "source": [
        "<a href=\"https://colab.research.google.com/github/Rushikesh042/Python-Dictionary/blob/master/Dictionary.ipynb\" target=\"_parent\"><img src=\"https://colab.research.google.com/assets/colab-badge.svg\" alt=\"Open In Colab\"/></a>"
      ]
    },
    {
      "cell_type": "code",
      "metadata": {
        "id": "Ec8D6LiTN1By",
        "colab_type": "code",
        "colab": {}
      },
      "source": [
        "import json"
      ],
      "execution_count": null,
      "outputs": []
    },
    {
      "cell_type": "code",
      "metadata": {
        "id": "NLYG3KwQPDrU",
        "colab_type": "code",
        "colab": {}
      },
      "source": [
        "data=json.load(open(\"data.json\"))"
      ],
      "execution_count": null,
      "outputs": []
    },
    {
      "cell_type": "code",
      "metadata": {
        "id": "Zk6In2ZIPMS5",
        "colab_type": "code",
        "colab": {
          "base_uri": "https://localhost:8080/",
          "height": 185
        },
        "outputId": "9e9bfc2d-79a8-4d13-f090-9dc317329643"
      },
      "source": [
        "type(data)\n",
        "print(data)"
      ],
      "execution_count": null,
      "outputs": [
        {
          "output_type": "stream",
          "text": [
            "IOPub data rate exceeded.\n",
            "The notebook server will temporarily stop sending output\n",
            "to the client in order to avoid crashing it.\n",
            "To change this limit, set the config variable\n",
            "`--NotebookApp.iopub_data_rate_limit`.\n",
            "\n",
            "Current values:\n",
            "NotebookApp.iopub_data_rate_limit=1000000.0 (bytes/sec)\n",
            "NotebookApp.rate_limit_window=3.0 (secs)\n",
            "\n"
          ],
          "name": "stderr"
        }
      ]
    },
    {
      "cell_type": "markdown",
      "metadata": {
        "id": "QPaIZ5CsT-1O",
        "colab_type": "text"
      },
      "source": [
        "Input from User"
      ]
    },
    {
      "cell_type": "code",
      "metadata": {
        "id": "aXv65GbhPvTc",
        "colab_type": "code",
        "colab": {
          "base_uri": "https://localhost:8080/",
          "height": 84
        },
        "outputId": "f19c73cb-6834-41f1-8ff7-3e3792e4e168"
      },
      "source": [
        "import json\n",
        "from difflib import SequenceMatcher\n",
        "data=json.load(open(\"data.json\"))\n",
        "def translate(word):\n",
        "  word=word.lower()\n",
        "  if word in data:\n",
        "    return data[word]\n",
        "  elif len(get_close_matches(word,data.keys()))>0:\n",
        "    yn=input(\"Did you mean %s instead? Enter Y if Yes, or N if No:\" %get_close_matches(word,data.keys())[0])\n",
        "    if yn==\"Y\":\n",
        "      return data[get_close_matches(word,data.keys())[0]]\n",
        "    elif yn==\"N\":\n",
        "       return \"The word doesn't exist. Please enter a valid word.\"\n",
        "    else:\n",
        "       return \"We diden't understand your Query.\"\n",
        "  else:\n",
        "    return \"The word doesn't exist. Please enter a valid word.\"\n",
        "word=input(\"Enter word:\")\n",
        "\n",
        "output=translate(word)\n",
        "if type(output)==list:\n",
        "  for item in output:\n",
        "    print(item)\n",
        "else:\n",
        "  print(output)"
      ],
      "execution_count": 77,
      "outputs": [
        {
          "output_type": "stream",
          "text": [
            "Enter word:Pas\n",
            "Did you mean past instead? Enter Y if Yes, or N if No:Y\n",
            "The period of time that has already happened.\n",
            "Having taken place or existed in the past.\n"
          ],
          "name": "stdout"
        }
      ]
    },
    {
      "cell_type": "code",
      "metadata": {
        "id": "hrWy2q3H--ka",
        "colab_type": "code",
        "colab": {}
      },
      "source": [
        ""
      ],
      "execution_count": null,
      "outputs": []
    }
  ]
}