{
  "nbformat": 4,
  "nbformat_minor": 0,
  "metadata": {
    "colab": {
      "name": "Dictionary.ipynb",
      "provenance": [],
      "authorship_tag": "ABX9TyNYcoQguD+YkEClbJ06mCjG",
      "include_colab_link": true
    },
    "kernelspec": {
      "name": "python3",
      "display_name": "Python 3"
    }
  },
  "cells": [
    {
      "cell_type": "markdown",
      "metadata": {
        "id": "view-in-github",
        "colab_type": "text"
      },
      "source": [
        "<a href=\"https://colab.research.google.com/github/Rushikesh042/Python-Dictionary/blob/master/Dictionary.ipynb\" target=\"_parent\"><img src=\"https://colab.research.google.com/assets/colab-badge.svg\" alt=\"Open In Colab\"/></a>"
      ]
    },
    {
      "cell_type": "code",
      "metadata": {
        "id": "Ec8D6LiTN1By",
        "colab_type": "code",
        "colab": {}
      },
      "source": [
        "import json"
      ],
      "execution_count": null,
      "outputs": []
    },
    {
      "cell_type": "code",
      "metadata": {
        "id": "NLYG3KwQPDrU",
        "colab_type": "code",
        "colab": {}
      },
      "source": [
        "data=json.load(open(\"data.json\"))"
      ],
      "execution_count": null,
      "outputs": []
    },
    {
      "cell_type": "code",
      "metadata": {
        "id": "Zk6In2ZIPMS5",
        "colab_type": "code",
        "colab": {
          "base_uri": "https://localhost:8080/",
          "height": 185
        },
        "outputId": "9e9bfc2d-79a8-4d13-f090-9dc317329643"
      },
      "source": [
        "type(data)\n",
        "print(data)"
      ],
      "execution_count": null,
      "outputs": [
        {
          "output_type": "stream",
          "text": [
            "IOPub data rate exceeded.\n",
            "The notebook server will temporarily stop sending output\n",
            "to the client in order to avoid crashing it.\n",
            "To change this limit, set the config variable\n",
            "`--NotebookApp.iopub_data_rate_limit`.\n",
            "\n",
            "Current values:\n",
            "NotebookApp.iopub_data_rate_limit=1000000.0 (bytes/sec)\n",
            "NotebookApp.rate_limit_window=3.0 (secs)\n",
            "\n"
          ],
          "name": "stderr"
        }
      ]
    },
    {
      "cell_type": "markdown",
      "metadata": {
        "id": "QPaIZ5CsT-1O",
        "colab_type": "text"
      },
      "source": [
        "Input from User"
      ]
    },
    {
      "cell_type": "code",
      "metadata": {
        "id": "hrWy2q3H--ka",
        "colab_type": "code",
        "colab": {
          "base_uri": "https://localhost:8080/",
          "height": 67
        },
        "outputId": "040ef5cf-92a0-4cdc-c6e5-0f020826fb2a"
      },
      "source": [
        "import json\n",
        "from difflib import get_close_matches\n",
        "data = json.load(open(\"data.json\"))\n",
        "def translate(w):\n",
        "    w = w.lower()\n",
        "    if w in data:\n",
        "        return data[w]\n",
        "    elif w.title() in data:\n",
        "        return data[w.title()]\n",
        "    elif w.upper() in data: #in case user enters words like USA or NATO\n",
        "        return data[w.upper()]\n",
        "    elif len(get_close_matches(w, data.keys())) > 0:\n",
        "        yn = input(\"Did you mean %s instead? Enter Y if yes, or N if no: \" % get_close_matches(w, data.keys())[0])\n",
        "        if yn == \"Y\":\n",
        "            return data[get_close_matches(w, data.keys())[0]]\n",
        "        elif yn == \"N\":\n",
        "            return \"The word doesn't exist. Please double check it.\"\n",
        "        else:\n",
        "            return \"We didn't understand your entry.\"\n",
        "    else:\n",
        "        return \"The word doesn't exist. Please double check it.\"\n",
        "word = input(\"Enter word: \")\n",
        "output = translate(word)\n",
        "if type(output) == list:\n",
        "    for item in output:\n",
        "        print(item)\n",
        "else:\n",
        "    print(output)"
      ],
      "execution_count": 7,
      "outputs": [
        {
          "output_type": "stream",
          "text": [
            "Enter word: sandy\n",
            "Did you mean shandy instead? Enter Y if yes, or N if no: Y\n",
            "A beer mixed with lemonade.\n"
          ],
          "name": "stdout"
        }
      ]
    }
  ]
}