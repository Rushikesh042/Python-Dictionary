{
  "nbformat": 4,
  "nbformat_minor": 0,
  "metadata": {
    "colab": {
      "name": "Dictionary.ipynb",
      "provenance": [],
      "authorship_tag": "ABX9TyO5hNzIjvK67MXfKAY1WhKy",
      "include_colab_link": true
    },
    "kernelspec": {
      "name": "python3",
      "display_name": "Python 3"
    }
  },
  "cells": [
    {
      "cell_type": "markdown",
      "metadata": {
        "id": "view-in-github",
        "colab_type": "text"
      },
      "source": [
        "<a href=\"https://colab.research.google.com/github/Rushikesh042/Python-Dictionary/blob/master/Dictionary.ipynb\" target=\"_parent\"><img src=\"https://colab.research.google.com/assets/colab-badge.svg\" alt=\"Open In Colab\"/></a>"
      ]
    },
    {
      "cell_type": "code",
      "metadata": {
        "id": "Ec8D6LiTN1By",
        "colab_type": "code",
        "colab": {}
      },
      "source": [
        "import json"
      ],
      "execution_count": null,
      "outputs": []
    },
    {
      "cell_type": "code",
      "metadata": {
        "id": "NLYG3KwQPDrU",
        "colab_type": "code",
        "colab": {}
      },
      "source": [
        "data=json.load(open(\"data.json\"))"
      ],
      "execution_count": null,
      "outputs": []
    },
    {
      "cell_type": "code",
      "metadata": {
        "id": "Zk6In2ZIPMS5",
        "colab_type": "code",
        "colab": {
          "base_uri": "https://localhost:8080/",
          "height": 185
        },
        "outputId": "9e9bfc2d-79a8-4d13-f090-9dc317329643"
      },
      "source": [
        "type(data)\n",
        "print(data)"
      ],
      "execution_count": null,
      "outputs": [
        {
          "output_type": "stream",
          "text": [
            "IOPub data rate exceeded.\n",
            "The notebook server will temporarily stop sending output\n",
            "to the client in order to avoid crashing it.\n",
            "To change this limit, set the config variable\n",
            "`--NotebookApp.iopub_data_rate_limit`.\n",
            "\n",
            "Current values:\n",
            "NotebookApp.iopub_data_rate_limit=1000000.0 (bytes/sec)\n",
            "NotebookApp.rate_limit_window=3.0 (secs)\n",
            "\n"
          ],
          "name": "stderr"
        }
      ]
    },
    {
      "cell_type": "markdown",
      "metadata": {
        "id": "QPaIZ5CsT-1O",
        "colab_type": "text"
      },
      "source": [
        "Input from User"
      ]
    },
    {
      "cell_type": "code",
      "metadata": {
        "id": "aXv65GbhPvTc",
        "colab_type": "code",
        "colab": {}
      },
      "source": [
        "import json\n",
        "import difflib\n",
        "from difflib import SequenceMatcher\n",
        "data=json.load(open(\"data.json\"))\n",
        "def translate(word):\n",
        "  word=word.lower()\n",
        "  if word in data:\n",
        "    return data[word]\n",
        "  elif len(get_close_matches(word,data.keys()))>0:\n",
        "    return \"Did you mean %s instead\" %get_close_matches(word,data.keys())[0]\n",
        "  else:\n",
        "    return \"The word doesn't exist. Please enter a valid word.\""
      ],
      "execution_count": 48,
      "outputs": []
    },
    {
      "cell_type": "code",
      "metadata": {
        "id": "tUimuq4rSl-i",
        "colab_type": "code",
        "colab": {
          "base_uri": "https://localhost:8080/",
          "height": 50
        },
        "outputId": "83eebb88-88a5-44e1-91e3-ded58311286b"
      },
      "source": [
        "word=input(\"Enter word:\")\n",
        "print(translate(word))"
      ],
      "execution_count": 49,
      "outputs": [
        {
          "output_type": "stream",
          "text": [
            "Enter word:lapm\n",
            "Did you mean slap instead\n"
          ],
          "name": "stdout"
        }
      ]
    }
  ]
}